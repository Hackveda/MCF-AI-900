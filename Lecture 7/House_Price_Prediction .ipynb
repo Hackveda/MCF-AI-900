{
  "nbformat": 4,
  "nbformat_minor": 0,
  "metadata": {
    "colab": {
      "name": "House_Price_Prediction.ipynb",
      "provenance": [],
      "collapsed_sections": []
    },
    "kernelspec": {
      "name": "python3",
      "display_name": "Python 3"
    },
    "language_info": {
      "name": "python"
    }
  },
  "cells": [
    {
      "cell_type": "code",
      "metadata": {
        "id": "kne47D212dur"
      },
      "source": [
        "import pandas as pd\n",
        "import numpy as np"
      ],
      "execution_count": 18,
      "outputs": []
    },
    {
      "cell_type": "code",
      "metadata": {
        "colab": {
          "resources": {
            "http://localhost:8080/nbextensions/google.colab/files.js": {
              "data": "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",
              "ok": true,
              "headers": [
                [
                  "content-type",
                  "application/javascript"
                ]
              ],
              "status": 200,
              "status_text": ""
            }
          },
          "base_uri": "https://localhost:8080/",
          "height": 74
        },
        "id": "gtVsnxQh28Wl",
        "outputId": "4059f704-15a7-421c-fcb4-429039614def"
      },
      "source": [
        "from google.colab import files\n",
        "uploaded = files.upload()"
      ],
      "execution_count": 19,
      "outputs": [
        {
          "output_type": "display_data",
          "data": {
            "text/html": [
              "\n",
              "     <input type=\"file\" id=\"files-9b3e19f0-3fb6-4fee-8042-209fd63da220\" name=\"files[]\" multiple disabled\n",
              "        style=\"border:none\" />\n",
              "     <output id=\"result-9b3e19f0-3fb6-4fee-8042-209fd63da220\">\n",
              "      Upload widget is only available when the cell has been executed in the\n",
              "      current browser session. Please rerun this cell to enable.\n",
              "      </output>\n",
              "      <script src=\"/nbextensions/google.colab/files.js\"></script> "
            ],
            "text/plain": [
              "<IPython.core.display.HTML object>"
            ]
          },
          "metadata": {}
        },
        {
          "output_type": "stream",
          "name": "stdout",
          "text": [
            "Saving USA_Housing.csv to USA_Housing (1).csv\n"
          ]
        }
      ]
    },
    {
      "cell_type": "code",
      "metadata": {
        "id": "sIJZQgzB3aof"
      },
      "source": [
        "import io\n",
        "USAhousing = pd.read_csv(io.BytesIO(uploaded['USA_Housing.csv']))"
      ],
      "execution_count": 20,
      "outputs": []
    },
    {
      "cell_type": "code",
      "metadata": {
        "colab": {
          "base_uri": "https://localhost:8080/",
          "height": 417
        },
        "id": "qIE0moQW3x2q",
        "outputId": "10f65270-1bbd-4d8a-9e6a-103300f9dd75"
      },
      "source": [
        "USAhousing"
      ],
      "execution_count": 21,
      "outputs": [
        {
          "output_type": "execute_result",
          "data": {
            "text/html": [
              "<div>\n",
              "<style scoped>\n",
              "    .dataframe tbody tr th:only-of-type {\n",
              "        vertical-align: middle;\n",
              "    }\n",
              "\n",
              "    .dataframe tbody tr th {\n",
              "        vertical-align: top;\n",
              "    }\n",
              "\n",
              "    .dataframe thead th {\n",
              "        text-align: right;\n",
              "    }\n",
              "</style>\n",
              "<table border=\"1\" class=\"dataframe\">\n",
              "  <thead>\n",
              "    <tr style=\"text-align: right;\">\n",
              "      <th></th>\n",
              "      <th>Avg. Area Income</th>\n",
              "      <th>Avg. Area House Age</th>\n",
              "      <th>Avg. Area Number of Rooms</th>\n",
              "      <th>Avg. Area Number of Bedrooms</th>\n",
              "      <th>Area Population</th>\n",
              "      <th>Price</th>\n",
              "      <th>Address</th>\n",
              "    </tr>\n",
              "  </thead>\n",
              "  <tbody>\n",
              "    <tr>\n",
              "      <th>0</th>\n",
              "      <td>79545.458574</td>\n",
              "      <td>5.682861</td>\n",
              "      <td>7.009188</td>\n",
              "      <td>4.09</td>\n",
              "      <td>23086.800503</td>\n",
              "      <td>1.059034e+06</td>\n",
              "      <td>208 Michael Ferry Apt. 674\\nLaurabury, NE 3701...</td>\n",
              "    </tr>\n",
              "    <tr>\n",
              "      <th>1</th>\n",
              "      <td>79248.642455</td>\n",
              "      <td>6.002900</td>\n",
              "      <td>6.730821</td>\n",
              "      <td>3.09</td>\n",
              "      <td>40173.072174</td>\n",
              "      <td>1.505891e+06</td>\n",
              "      <td>188 Johnson Views Suite 079\\nLake Kathleen, CA...</td>\n",
              "    </tr>\n",
              "    <tr>\n",
              "      <th>2</th>\n",
              "      <td>61287.067179</td>\n",
              "      <td>5.865890</td>\n",
              "      <td>8.512727</td>\n",
              "      <td>5.13</td>\n",
              "      <td>36882.159400</td>\n",
              "      <td>1.058988e+06</td>\n",
              "      <td>9127 Elizabeth Stravenue\\nDanieltown, WI 06482...</td>\n",
              "    </tr>\n",
              "    <tr>\n",
              "      <th>3</th>\n",
              "      <td>63345.240046</td>\n",
              "      <td>7.188236</td>\n",
              "      <td>5.586729</td>\n",
              "      <td>3.26</td>\n",
              "      <td>34310.242831</td>\n",
              "      <td>1.260617e+06</td>\n",
              "      <td>USS Barnett\\nFPO AP 44820</td>\n",
              "    </tr>\n",
              "    <tr>\n",
              "      <th>4</th>\n",
              "      <td>59982.197226</td>\n",
              "      <td>5.040555</td>\n",
              "      <td>7.839388</td>\n",
              "      <td>4.23</td>\n",
              "      <td>26354.109472</td>\n",
              "      <td>6.309435e+05</td>\n",
              "      <td>USNS Raymond\\nFPO AE 09386</td>\n",
              "    </tr>\n",
              "    <tr>\n",
              "      <th>...</th>\n",
              "      <td>...</td>\n",
              "      <td>...</td>\n",
              "      <td>...</td>\n",
              "      <td>...</td>\n",
              "      <td>...</td>\n",
              "      <td>...</td>\n",
              "      <td>...</td>\n",
              "    </tr>\n",
              "    <tr>\n",
              "      <th>4995</th>\n",
              "      <td>60567.944140</td>\n",
              "      <td>7.830362</td>\n",
              "      <td>6.137356</td>\n",
              "      <td>3.46</td>\n",
              "      <td>22837.361035</td>\n",
              "      <td>1.060194e+06</td>\n",
              "      <td>USNS Williams\\nFPO AP 30153-7653</td>\n",
              "    </tr>\n",
              "    <tr>\n",
              "      <th>4996</th>\n",
              "      <td>78491.275435</td>\n",
              "      <td>6.999135</td>\n",
              "      <td>6.576763</td>\n",
              "      <td>4.02</td>\n",
              "      <td>25616.115489</td>\n",
              "      <td>1.482618e+06</td>\n",
              "      <td>PSC 9258, Box 8489\\nAPO AA 42991-3352</td>\n",
              "    </tr>\n",
              "    <tr>\n",
              "      <th>4997</th>\n",
              "      <td>63390.686886</td>\n",
              "      <td>7.250591</td>\n",
              "      <td>4.805081</td>\n",
              "      <td>2.13</td>\n",
              "      <td>33266.145490</td>\n",
              "      <td>1.030730e+06</td>\n",
              "      <td>4215 Tracy Garden Suite 076\\nJoshualand, VA 01...</td>\n",
              "    </tr>\n",
              "    <tr>\n",
              "      <th>4998</th>\n",
              "      <td>68001.331235</td>\n",
              "      <td>5.534388</td>\n",
              "      <td>7.130144</td>\n",
              "      <td>5.44</td>\n",
              "      <td>42625.620156</td>\n",
              "      <td>1.198657e+06</td>\n",
              "      <td>USS Wallace\\nFPO AE 73316</td>\n",
              "    </tr>\n",
              "    <tr>\n",
              "      <th>4999</th>\n",
              "      <td>65510.581804</td>\n",
              "      <td>5.992305</td>\n",
              "      <td>6.792336</td>\n",
              "      <td>4.07</td>\n",
              "      <td>46501.283803</td>\n",
              "      <td>1.298950e+06</td>\n",
              "      <td>37778 George Ridges Apt. 509\\nEast Holly, NV 2...</td>\n",
              "    </tr>\n",
              "  </tbody>\n",
              "</table>\n",
              "<p>5000 rows × 7 columns</p>\n",
              "</div>"
            ],
            "text/plain": [
              "      Avg. Area Income  ...                                            Address\n",
              "0         79545.458574  ...  208 Michael Ferry Apt. 674\\nLaurabury, NE 3701...\n",
              "1         79248.642455  ...  188 Johnson Views Suite 079\\nLake Kathleen, CA...\n",
              "2         61287.067179  ...  9127 Elizabeth Stravenue\\nDanieltown, WI 06482...\n",
              "3         63345.240046  ...                          USS Barnett\\nFPO AP 44820\n",
              "4         59982.197226  ...                         USNS Raymond\\nFPO AE 09386\n",
              "...                ...  ...                                                ...\n",
              "4995      60567.944140  ...                   USNS Williams\\nFPO AP 30153-7653\n",
              "4996      78491.275435  ...              PSC 9258, Box 8489\\nAPO AA 42991-3352\n",
              "4997      63390.686886  ...  4215 Tracy Garden Suite 076\\nJoshualand, VA 01...\n",
              "4998      68001.331235  ...                          USS Wallace\\nFPO AE 73316\n",
              "4999      65510.581804  ...  37778 George Ridges Apt. 509\\nEast Holly, NV 2...\n",
              "\n",
              "[5000 rows x 7 columns]"
            ]
          },
          "metadata": {},
          "execution_count": 21
        }
      ]
    },
    {
      "cell_type": "code",
      "metadata": {
        "id": "rXDGesLw3yw0"
      },
      "source": [
        "X = USAhousing[['Avg. Area Income', 'Avg. Area House Age','Avg. Area Number of Rooms',\n",
        "               'Avg. Area Number of Bedrooms', 'Area Population']]\n",
        "y = USAhousing['Price']"
      ],
      "execution_count": 22,
      "outputs": []
    },
    {
      "cell_type": "code",
      "metadata": {
        "colab": {
          "base_uri": "https://localhost:8080/",
          "height": 417
        },
        "id": "Dwp7dz8W4RTY",
        "outputId": "7a8342b1-c06d-4f68-f30f-a93958eda256"
      },
      "source": [
        "X"
      ],
      "execution_count": 23,
      "outputs": [
        {
          "output_type": "execute_result",
          "data": {
            "text/html": [
              "<div>\n",
              "<style scoped>\n",
              "    .dataframe tbody tr th:only-of-type {\n",
              "        vertical-align: middle;\n",
              "    }\n",
              "\n",
              "    .dataframe tbody tr th {\n",
              "        vertical-align: top;\n",
              "    }\n",
              "\n",
              "    .dataframe thead th {\n",
              "        text-align: right;\n",
              "    }\n",
              "</style>\n",
              "<table border=\"1\" class=\"dataframe\">\n",
              "  <thead>\n",
              "    <tr style=\"text-align: right;\">\n",
              "      <th></th>\n",
              "      <th>Avg. Area Income</th>\n",
              "      <th>Avg. Area House Age</th>\n",
              "      <th>Avg. Area Number of Rooms</th>\n",
              "      <th>Avg. Area Number of Bedrooms</th>\n",
              "      <th>Area Population</th>\n",
              "    </tr>\n",
              "  </thead>\n",
              "  <tbody>\n",
              "    <tr>\n",
              "      <th>0</th>\n",
              "      <td>79545.458574</td>\n",
              "      <td>5.682861</td>\n",
              "      <td>7.009188</td>\n",
              "      <td>4.09</td>\n",
              "      <td>23086.800503</td>\n",
              "    </tr>\n",
              "    <tr>\n",
              "      <th>1</th>\n",
              "      <td>79248.642455</td>\n",
              "      <td>6.002900</td>\n",
              "      <td>6.730821</td>\n",
              "      <td>3.09</td>\n",
              "      <td>40173.072174</td>\n",
              "    </tr>\n",
              "    <tr>\n",
              "      <th>2</th>\n",
              "      <td>61287.067179</td>\n",
              "      <td>5.865890</td>\n",
              "      <td>8.512727</td>\n",
              "      <td>5.13</td>\n",
              "      <td>36882.159400</td>\n",
              "    </tr>\n",
              "    <tr>\n",
              "      <th>3</th>\n",
              "      <td>63345.240046</td>\n",
              "      <td>7.188236</td>\n",
              "      <td>5.586729</td>\n",
              "      <td>3.26</td>\n",
              "      <td>34310.242831</td>\n",
              "    </tr>\n",
              "    <tr>\n",
              "      <th>4</th>\n",
              "      <td>59982.197226</td>\n",
              "      <td>5.040555</td>\n",
              "      <td>7.839388</td>\n",
              "      <td>4.23</td>\n",
              "      <td>26354.109472</td>\n",
              "    </tr>\n",
              "    <tr>\n",
              "      <th>...</th>\n",
              "      <td>...</td>\n",
              "      <td>...</td>\n",
              "      <td>...</td>\n",
              "      <td>...</td>\n",
              "      <td>...</td>\n",
              "    </tr>\n",
              "    <tr>\n",
              "      <th>4995</th>\n",
              "      <td>60567.944140</td>\n",
              "      <td>7.830362</td>\n",
              "      <td>6.137356</td>\n",
              "      <td>3.46</td>\n",
              "      <td>22837.361035</td>\n",
              "    </tr>\n",
              "    <tr>\n",
              "      <th>4996</th>\n",
              "      <td>78491.275435</td>\n",
              "      <td>6.999135</td>\n",
              "      <td>6.576763</td>\n",
              "      <td>4.02</td>\n",
              "      <td>25616.115489</td>\n",
              "    </tr>\n",
              "    <tr>\n",
              "      <th>4997</th>\n",
              "      <td>63390.686886</td>\n",
              "      <td>7.250591</td>\n",
              "      <td>4.805081</td>\n",
              "      <td>2.13</td>\n",
              "      <td>33266.145490</td>\n",
              "    </tr>\n",
              "    <tr>\n",
              "      <th>4998</th>\n",
              "      <td>68001.331235</td>\n",
              "      <td>5.534388</td>\n",
              "      <td>7.130144</td>\n",
              "      <td>5.44</td>\n",
              "      <td>42625.620156</td>\n",
              "    </tr>\n",
              "    <tr>\n",
              "      <th>4999</th>\n",
              "      <td>65510.581804</td>\n",
              "      <td>5.992305</td>\n",
              "      <td>6.792336</td>\n",
              "      <td>4.07</td>\n",
              "      <td>46501.283803</td>\n",
              "    </tr>\n",
              "  </tbody>\n",
              "</table>\n",
              "<p>5000 rows × 5 columns</p>\n",
              "</div>"
            ],
            "text/plain": [
              "      Avg. Area Income  ...  Area Population\n",
              "0         79545.458574  ...     23086.800503\n",
              "1         79248.642455  ...     40173.072174\n",
              "2         61287.067179  ...     36882.159400\n",
              "3         63345.240046  ...     34310.242831\n",
              "4         59982.197226  ...     26354.109472\n",
              "...                ...  ...              ...\n",
              "4995      60567.944140  ...     22837.361035\n",
              "4996      78491.275435  ...     25616.115489\n",
              "4997      63390.686886  ...     33266.145490\n",
              "4998      68001.331235  ...     42625.620156\n",
              "4999      65510.581804  ...     46501.283803\n",
              "\n",
              "[5000 rows x 5 columns]"
            ]
          },
          "metadata": {},
          "execution_count": 23
        }
      ]
    },
    {
      "cell_type": "code",
      "metadata": {
        "colab": {
          "base_uri": "https://localhost:8080/"
        },
        "id": "_viRLdJF-MdT",
        "outputId": "f0096106-2249-4643-cafe-334ae0afb931"
      },
      "source": [
        "y"
      ],
      "execution_count": 24,
      "outputs": [
        {
          "output_type": "execute_result",
          "data": {
            "text/plain": [
              "0       1.059034e+06\n",
              "1       1.505891e+06\n",
              "2       1.058988e+06\n",
              "3       1.260617e+06\n",
              "4       6.309435e+05\n",
              "            ...     \n",
              "4995    1.060194e+06\n",
              "4996    1.482618e+06\n",
              "4997    1.030730e+06\n",
              "4998    1.198657e+06\n",
              "4999    1.298950e+06\n",
              "Name: Price, Length: 5000, dtype: float64"
            ]
          },
          "metadata": {},
          "execution_count": 24
        }
      ]
    },
    {
      "cell_type": "code",
      "metadata": {
        "id": "xddbEcsc4SNw"
      },
      "source": [
        ""
      ],
      "execution_count": 24,
      "outputs": []
    },
    {
      "cell_type": "code",
      "metadata": {
        "id": "8BFb14Je4TMJ"
      },
      "source": [
        "from sklearn.model_selection import train_test_split\n",
        "\n",
        "X_train, X_test, y_train, y_test = train_test_split(X, y, test_size=0.2)"
      ],
      "execution_count": 25,
      "outputs": []
    },
    {
      "cell_type": "code",
      "metadata": {
        "colab": {
          "base_uri": "https://localhost:8080/",
          "height": 417
        },
        "id": "iiXnJOTSJIZT",
        "outputId": "53a4b1de-2306-4f91-e916-3df66e910aa9"
      },
      "source": [
        "X_train"
      ],
      "execution_count": 26,
      "outputs": [
        {
          "output_type": "execute_result",
          "data": {
            "text/html": [
              "<div>\n",
              "<style scoped>\n",
              "    .dataframe tbody tr th:only-of-type {\n",
              "        vertical-align: middle;\n",
              "    }\n",
              "\n",
              "    .dataframe tbody tr th {\n",
              "        vertical-align: top;\n",
              "    }\n",
              "\n",
              "    .dataframe thead th {\n",
              "        text-align: right;\n",
              "    }\n",
              "</style>\n",
              "<table border=\"1\" class=\"dataframe\">\n",
              "  <thead>\n",
              "    <tr style=\"text-align: right;\">\n",
              "      <th></th>\n",
              "      <th>Avg. Area Income</th>\n",
              "      <th>Avg. Area House Age</th>\n",
              "      <th>Avg. Area Number of Rooms</th>\n",
              "      <th>Avg. Area Number of Bedrooms</th>\n",
              "      <th>Area Population</th>\n",
              "    </tr>\n",
              "  </thead>\n",
              "  <tbody>\n",
              "    <tr>\n",
              "      <th>4567</th>\n",
              "      <td>67952.404638</td>\n",
              "      <td>6.069942</td>\n",
              "      <td>6.372399</td>\n",
              "      <td>3.19</td>\n",
              "      <td>58782.222269</td>\n",
              "    </tr>\n",
              "    <tr>\n",
              "      <th>1139</th>\n",
              "      <td>65837.116938</td>\n",
              "      <td>6.304585</td>\n",
              "      <td>6.503946</td>\n",
              "      <td>4.09</td>\n",
              "      <td>18249.720595</td>\n",
              "    </tr>\n",
              "    <tr>\n",
              "      <th>4544</th>\n",
              "      <td>82732.981114</td>\n",
              "      <td>5.332712</td>\n",
              "      <td>6.198476</td>\n",
              "      <td>3.49</td>\n",
              "      <td>41136.527221</td>\n",
              "    </tr>\n",
              "    <tr>\n",
              "      <th>4585</th>\n",
              "      <td>64975.883688</td>\n",
              "      <td>5.175115</td>\n",
              "      <td>6.584406</td>\n",
              "      <td>2.27</td>\n",
              "      <td>37088.816218</td>\n",
              "    </tr>\n",
              "    <tr>\n",
              "      <th>1623</th>\n",
              "      <td>68246.927827</td>\n",
              "      <td>3.907090</td>\n",
              "      <td>7.175402</td>\n",
              "      <td>3.28</td>\n",
              "      <td>24553.459867</td>\n",
              "    </tr>\n",
              "    <tr>\n",
              "      <th>...</th>\n",
              "      <td>...</td>\n",
              "      <td>...</td>\n",
              "      <td>...</td>\n",
              "      <td>...</td>\n",
              "      <td>...</td>\n",
              "    </tr>\n",
              "    <tr>\n",
              "      <th>1155</th>\n",
              "      <td>54621.016939</td>\n",
              "      <td>6.387486</td>\n",
              "      <td>7.083958</td>\n",
              "      <td>5.25</td>\n",
              "      <td>44500.351945</td>\n",
              "    </tr>\n",
              "    <tr>\n",
              "      <th>4259</th>\n",
              "      <td>73853.703763</td>\n",
              "      <td>6.189819</td>\n",
              "      <td>7.842875</td>\n",
              "      <td>4.01</td>\n",
              "      <td>34823.605031</td>\n",
              "    </tr>\n",
              "    <tr>\n",
              "      <th>3459</th>\n",
              "      <td>56636.238191</td>\n",
              "      <td>5.497667</td>\n",
              "      <td>7.121872</td>\n",
              "      <td>6.10</td>\n",
              "      <td>47541.431763</td>\n",
              "    </tr>\n",
              "    <tr>\n",
              "      <th>3915</th>\n",
              "      <td>88733.448030</td>\n",
              "      <td>4.740032</td>\n",
              "      <td>7.914387</td>\n",
              "      <td>4.00</td>\n",
              "      <td>32505.916374</td>\n",
              "    </tr>\n",
              "    <tr>\n",
              "      <th>237</th>\n",
              "      <td>69031.908878</td>\n",
              "      <td>5.779976</td>\n",
              "      <td>5.501755</td>\n",
              "      <td>3.23</td>\n",
              "      <td>15660.403008</td>\n",
              "    </tr>\n",
              "  </tbody>\n",
              "</table>\n",
              "<p>4000 rows × 5 columns</p>\n",
              "</div>"
            ],
            "text/plain": [
              "      Avg. Area Income  ...  Area Population\n",
              "4567      67952.404638  ...     58782.222269\n",
              "1139      65837.116938  ...     18249.720595\n",
              "4544      82732.981114  ...     41136.527221\n",
              "4585      64975.883688  ...     37088.816218\n",
              "1623      68246.927827  ...     24553.459867\n",
              "...                ...  ...              ...\n",
              "1155      54621.016939  ...     44500.351945\n",
              "4259      73853.703763  ...     34823.605031\n",
              "3459      56636.238191  ...     47541.431763\n",
              "3915      88733.448030  ...     32505.916374\n",
              "237       69031.908878  ...     15660.403008\n",
              "\n",
              "[4000 rows x 5 columns]"
            ]
          },
          "metadata": {},
          "execution_count": 26
        }
      ]
    },
    {
      "cell_type": "code",
      "metadata": {
        "colab": {
          "base_uri": "https://localhost:8080/",
          "height": 417
        },
        "id": "q86WgKhEJI7Q",
        "outputId": "a2b09cad-e2a7-43c7-8135-8f0545bbb092"
      },
      "source": [
        "X_test"
      ],
      "execution_count": 27,
      "outputs": [
        {
          "output_type": "execute_result",
          "data": {
            "text/html": [
              "<div>\n",
              "<style scoped>\n",
              "    .dataframe tbody tr th:only-of-type {\n",
              "        vertical-align: middle;\n",
              "    }\n",
              "\n",
              "    .dataframe tbody tr th {\n",
              "        vertical-align: top;\n",
              "    }\n",
              "\n",
              "    .dataframe thead th {\n",
              "        text-align: right;\n",
              "    }\n",
              "</style>\n",
              "<table border=\"1\" class=\"dataframe\">\n",
              "  <thead>\n",
              "    <tr style=\"text-align: right;\">\n",
              "      <th></th>\n",
              "      <th>Avg. Area Income</th>\n",
              "      <th>Avg. Area House Age</th>\n",
              "      <th>Avg. Area Number of Rooms</th>\n",
              "      <th>Avg. Area Number of Bedrooms</th>\n",
              "      <th>Area Population</th>\n",
              "    </tr>\n",
              "  </thead>\n",
              "  <tbody>\n",
              "    <tr>\n",
              "      <th>3702</th>\n",
              "      <td>64332.228793</td>\n",
              "      <td>5.636972</td>\n",
              "      <td>7.892393</td>\n",
              "      <td>4.14</td>\n",
              "      <td>36649.852715</td>\n",
              "    </tr>\n",
              "    <tr>\n",
              "      <th>3975</th>\n",
              "      <td>66698.247332</td>\n",
              "      <td>5.392094</td>\n",
              "      <td>6.996383</td>\n",
              "      <td>4.08</td>\n",
              "      <td>40558.239017</td>\n",
              "    </tr>\n",
              "    <tr>\n",
              "      <th>556</th>\n",
              "      <td>91392.419335</td>\n",
              "      <td>7.320676</td>\n",
              "      <td>7.498419</td>\n",
              "      <td>6.24</td>\n",
              "      <td>33379.676399</td>\n",
              "    </tr>\n",
              "    <tr>\n",
              "      <th>1262</th>\n",
              "      <td>77334.286506</td>\n",
              "      <td>4.866819</td>\n",
              "      <td>8.509337</td>\n",
              "      <td>4.35</td>\n",
              "      <td>37905.983784</td>\n",
              "    </tr>\n",
              "    <tr>\n",
              "      <th>3784</th>\n",
              "      <td>68696.347262</td>\n",
              "      <td>6.378852</td>\n",
              "      <td>7.346887</td>\n",
              "      <td>4.03</td>\n",
              "      <td>41856.718673</td>\n",
              "    </tr>\n",
              "    <tr>\n",
              "      <th>...</th>\n",
              "      <td>...</td>\n",
              "      <td>...</td>\n",
              "      <td>...</td>\n",
              "      <td>...</td>\n",
              "      <td>...</td>\n",
              "    </tr>\n",
              "    <tr>\n",
              "      <th>3117</th>\n",
              "      <td>78788.439524</td>\n",
              "      <td>6.772487</td>\n",
              "      <td>6.637598</td>\n",
              "      <td>4.01</td>\n",
              "      <td>38656.431386</td>\n",
              "    </tr>\n",
              "    <tr>\n",
              "      <th>202</th>\n",
              "      <td>70969.902103</td>\n",
              "      <td>4.901818</td>\n",
              "      <td>6.396268</td>\n",
              "      <td>3.18</td>\n",
              "      <td>24833.646145</td>\n",
              "    </tr>\n",
              "    <tr>\n",
              "      <th>4898</th>\n",
              "      <td>49211.359728</td>\n",
              "      <td>6.376044</td>\n",
              "      <td>6.135490</td>\n",
              "      <td>2.04</td>\n",
              "      <td>21182.081276</td>\n",
              "    </tr>\n",
              "    <tr>\n",
              "      <th>4459</th>\n",
              "      <td>77864.514804</td>\n",
              "      <td>5.119941</td>\n",
              "      <td>6.929686</td>\n",
              "      <td>3.40</td>\n",
              "      <td>25200.423945</td>\n",
              "    </tr>\n",
              "    <tr>\n",
              "      <th>1125</th>\n",
              "      <td>78299.642483</td>\n",
              "      <td>6.876501</td>\n",
              "      <td>7.805954</td>\n",
              "      <td>3.37</td>\n",
              "      <td>39298.235519</td>\n",
              "    </tr>\n",
              "  </tbody>\n",
              "</table>\n",
              "<p>1000 rows × 5 columns</p>\n",
              "</div>"
            ],
            "text/plain": [
              "      Avg. Area Income  ...  Area Population\n",
              "3702      64332.228793  ...     36649.852715\n",
              "3975      66698.247332  ...     40558.239017\n",
              "556       91392.419335  ...     33379.676399\n",
              "1262      77334.286506  ...     37905.983784\n",
              "3784      68696.347262  ...     41856.718673\n",
              "...                ...  ...              ...\n",
              "3117      78788.439524  ...     38656.431386\n",
              "202       70969.902103  ...     24833.646145\n",
              "4898      49211.359728  ...     21182.081276\n",
              "4459      77864.514804  ...     25200.423945\n",
              "1125      78299.642483  ...     39298.235519\n",
              "\n",
              "[1000 rows x 5 columns]"
            ]
          },
          "metadata": {},
          "execution_count": 27
        }
      ]
    },
    {
      "cell_type": "code",
      "metadata": {
        "id": "YeNiGYnsBlVU",
        "colab": {
          "base_uri": "https://localhost:8080/"
        },
        "outputId": "a0e73c40-e091-416b-b526-5d7a35e85ebd"
      },
      "source": [
        "from sklearn.preprocessing import MinMaxScaler\n",
        "scaler = MinMaxScaler()\n",
        "scaledX_train = scaler.fit_transform(X_train)\n",
        "scaledX_train\n",
        "scaledX_test = scaler.transform(X_test)\n",
        "scaledX_test"
      ],
      "execution_count": 28,
      "outputs": [
        {
          "output_type": "execute_result",
          "data": {
            "text/plain": [
              "array([[0.39842061, 0.43531081, 0.61889606, 0.47555556, 0.52523705],\n",
              "       [0.4312397 , 0.39969115, 0.49979954, 0.46222222, 0.58151404],\n",
              "       [0.773773  , 0.68022096, 0.5665295 , 0.94222222, 0.47814967],\n",
              "       ...,\n",
              "       [0.18867877, 0.54281555, 0.38537071, 0.00888889, 0.30251608],\n",
              "       [0.5861272 , 0.36010395, 0.49093432, 0.31111111, 0.36037634],\n",
              "       [0.59216286, 0.61561167, 0.60740673, 0.30444444, 0.56337121]])"
            ]
          },
          "metadata": {},
          "execution_count": 28
        }
      ]
    },
    {
      "cell_type": "code",
      "metadata": {
        "colab": {
          "base_uri": "https://localhost:8080/"
        },
        "id": "Ii4solbw4cpv",
        "outputId": "cbe4422c-91c2-486b-9bbf-4e946857e7c6"
      },
      "source": [
        "from sklearn.linear_model import LinearRegression\n",
        "\n",
        "model = LinearRegression()\n",
        "model.fit(scaledX_train,y_train)\n",
        "model.score(scaledX_test,y_test)"
      ],
      "execution_count": 29,
      "outputs": [
        {
          "output_type": "execute_result",
          "data": {
            "text/plain": [
              "0.9147639470256926"
            ]
          },
          "metadata": {},
          "execution_count": 29
        }
      ]
    },
    {
      "cell_type": "code",
      "metadata": {
        "colab": {
          "base_uri": "https://localhost:8080/"
        },
        "id": "DesW7cgw4jGe",
        "outputId": "62522dca-e593-43b7-88f9-bb06b960a44a"
      },
      "source": [
        "print(model.intercept_)"
      ],
      "execution_count": 30,
      "outputs": [
        {
          "output_type": "stream",
          "name": "stdout",
          "text": [
            "-1038820.0389664525\n"
          ]
        }
      ]
    },
    {
      "cell_type": "code",
      "metadata": {
        "colab": {
          "base_uri": "https://localhost:8080/"
        },
        "id": "KRlj0Iaj74Qg",
        "outputId": "16b677af-10c2-4c1f-fe7a-07c08c0a06f9"
      },
      "source": [
        "print(model.coef_)"
      ],
      "execution_count": 31,
      "outputs": [
        {
          "output_type": "stream",
          "name": "stdout",
          "text": [
            "[1562430.54238796 1141341.96394493  916284.91522719    5037.392256\n",
            " 1051276.53734682]\n"
          ]
        }
      ]
    },
    {
      "cell_type": "code",
      "metadata": {
        "id": "MN6BnclL7-kA"
      },
      "source": [
        "ypred = model.predict(X_test)"
      ],
      "execution_count": 32,
      "outputs": []
    },
    {
      "cell_type": "code",
      "metadata": {
        "colab": {
          "base_uri": "https://localhost:8080/"
        },
        "id": "jbuFw9ocLaUj",
        "outputId": "aec415bf-9e62-4e9d-ff37-601edebc4142"
      },
      "source": [
        "ypred"
      ],
      "execution_count": 33,
      "outputs": [
        {
          "output_type": "execute_result",
          "data": {
            "text/plain": [
              "array([1.39056417e+11, 1.46860850e+11, 1.77899797e+11, 1.60691457e+11,\n",
              "       1.51349251e+11, 9.43101947e+10, 1.27746333e+11, 1.70179843e+11,\n",
              "       1.36822530e+11, 1.62843045e+11, 1.07389713e+11, 1.37586011e+11,\n",
              "       1.73221632e+11, 1.25676994e+11, 1.43718831e+11, 1.75953145e+11,\n",
              "       1.47958672e+11, 1.26463410e+11, 1.75008882e+11, 1.39761360e+11,\n",
              "       1.33147507e+11, 1.36476489e+11, 1.67834815e+11, 1.06548465e+11,\n",
              "       1.31451573e+11, 1.14186977e+11, 1.50530736e+11, 1.06659746e+11,\n",
              "       1.80860031e+11, 1.61326206e+11, 1.33178546e+11, 1.62574305e+11,\n",
              "       1.46651225e+11, 1.64482401e+11, 1.94917693e+11, 1.72815544e+11,\n",
              "       1.43858520e+11, 1.75641746e+11, 1.52490645e+11, 1.63149254e+11,\n",
              "       1.69243674e+11, 1.51837433e+11, 1.31229534e+11, 1.40808562e+11,\n",
              "       1.36631873e+11, 1.41920795e+11, 1.26110103e+11, 1.04386550e+11,\n",
              "       1.23198507e+11, 1.07411296e+11, 1.68201101e+11, 1.54815620e+11,\n",
              "       1.07773188e+11, 1.52047038e+11, 1.78734599e+11, 1.64576579e+11,\n",
              "       1.15838935e+11, 1.02823271e+11, 1.49836137e+11, 1.45945636e+11,\n",
              "       1.74615843e+11, 1.34790292e+11, 8.20614125e+10, 1.59315553e+11,\n",
              "       1.42930488e+11, 1.17186817e+11, 1.30926689e+11, 1.65197307e+11,\n",
              "       1.59142285e+11, 1.62863138e+11, 1.52526749e+11, 1.56731151e+11,\n",
              "       1.48053392e+11, 1.48911527e+11, 1.34173897e+11, 2.04279834e+11,\n",
              "       1.25261889e+11, 1.38803835e+11, 1.41892201e+11, 1.64143611e+11,\n",
              "       1.54331471e+11, 1.68419460e+11, 1.40115365e+11, 1.29200995e+11,\n",
              "       1.66981991e+11, 1.61835624e+11, 1.74058544e+11, 1.43714535e+11,\n",
              "       1.30617776e+11, 1.85767843e+11, 1.22800934e+11, 1.14206629e+11,\n",
              "       1.72144201e+11, 1.73923042e+11, 1.16213766e+11, 1.39775891e+11,\n",
              "       1.47425801e+11, 1.57484493e+11, 1.79743089e+11, 1.52537895e+11,\n",
              "       1.48803199e+11, 1.38254255e+11, 1.54874826e+11, 1.41095884e+11,\n",
              "       1.37376456e+11, 1.86238255e+11, 1.68302905e+11, 1.45833428e+11,\n",
              "       1.22610021e+11, 1.09762655e+11, 1.60783488e+11, 1.09469768e+11,\n",
              "       1.61178668e+11, 1.46042162e+11, 1.42100191e+11, 1.52112730e+11,\n",
              "       1.28096610e+11, 1.54060764e+11, 1.14659447e+11, 1.34443353e+11,\n",
              "       1.40401845e+11, 1.48107025e+11, 1.16280815e+11, 1.47669472e+11,\n",
              "       1.40451218e+11, 1.31349811e+11, 1.64872420e+11, 1.26510434e+11,\n",
              "       1.72579891e+11, 1.26972433e+11, 1.33069068e+11, 1.39272254e+11,\n",
              "       1.14862041e+11, 1.50138002e+11, 1.29722128e+11, 1.57957206e+11,\n",
              "       1.71752720e+11, 1.48230308e+11, 1.66132344e+11, 1.18953832e+11,\n",
              "       1.30600319e+11, 1.67125972e+11, 1.66079244e+11, 1.32772564e+11,\n",
              "       1.19282858e+11, 1.71185938e+11, 1.28691393e+11, 1.61269044e+11,\n",
              "       1.68679277e+11, 1.35815511e+11, 1.12627673e+11, 1.51481019e+11,\n",
              "       1.57711566e+11, 1.61385938e+11, 1.64271037e+11, 1.43915938e+11,\n",
              "       1.63388376e+11, 1.60655532e+11, 1.57160911e+11, 1.35300806e+11,\n",
              "       1.02233438e+11, 1.25658861e+11, 1.55265210e+11, 1.40009135e+11,\n",
              "       1.66065503e+11, 1.31845878e+11, 1.31745161e+11, 1.42911593e+11,\n",
              "       1.22355531e+11, 1.62336607e+11, 1.09590442e+11, 1.48525743e+11,\n",
              "       1.34255507e+11, 1.57127701e+11, 1.48400733e+11, 2.00674532e+11,\n",
              "       1.57662422e+11, 1.47116075e+11, 2.05851941e+11, 1.53904545e+11,\n",
              "       1.19639516e+11, 1.49565144e+11, 1.47886376e+11, 1.56697085e+11,\n",
              "       1.50639318e+11, 1.05922646e+11, 1.74957485e+11, 1.35076230e+11,\n",
              "       1.37661857e+11, 1.93484760e+11, 1.43489094e+11, 1.29845905e+11,\n",
              "       1.37941495e+11, 1.59927336e+11, 1.93609213e+11, 1.32906733e+11,\n",
              "       1.23389209e+11, 1.72368543e+11, 1.33737329e+11, 2.00817519e+11,\n",
              "       1.32441899e+11, 1.76859497e+11, 1.26800069e+11, 1.41339963e+11,\n",
              "       1.38458276e+11, 1.35232646e+11, 1.24084861e+11, 1.51070510e+11,\n",
              "       1.51814521e+11, 1.58434169e+11, 1.68019589e+11, 1.40171517e+11,\n",
              "       1.54750839e+11, 1.06445440e+11, 1.44073184e+11, 1.14562509e+11,\n",
              "       1.52790347e+11, 1.39781664e+11, 1.06388755e+11, 1.71923125e+11,\n",
              "       1.36605630e+11, 1.39771127e+11, 1.07168170e+11, 1.43903959e+11,\n",
              "       1.31767617e+11, 7.73972720e+10, 1.27011109e+11, 1.34794036e+11,\n",
              "       1.24789380e+11, 1.74589969e+11, 1.42563189e+11, 1.29603520e+11,\n",
              "       1.43626796e+11, 1.28849887e+11, 1.33169776e+11, 1.50982532e+11,\n",
              "       1.49504827e+11, 1.57544535e+11, 1.40683196e+11, 1.29010199e+11,\n",
              "       1.31951518e+11, 1.15836753e+11, 1.86878033e+11, 1.41630161e+11,\n",
              "       1.43688929e+11, 1.88929450e+11, 1.21969473e+11, 1.45144300e+11,\n",
              "       1.43199397e+11, 1.50560882e+11, 1.55963391e+11, 1.43260394e+11,\n",
              "       1.46005245e+11, 1.54837858e+11, 1.55930249e+11, 1.52665497e+11,\n",
              "       1.63268714e+11, 1.56279433e+11, 1.75147582e+11, 1.19398511e+11,\n",
              "       1.27030462e+11, 1.31883444e+11, 1.82473731e+11, 1.26947094e+11,\n",
              "       1.37729674e+11, 1.32522486e+11, 1.20015454e+11, 1.29215101e+11,\n",
              "       1.29529818e+11, 1.38620565e+11, 1.44777491e+11, 1.42381508e+11,\n",
              "       1.43902215e+11, 1.39627147e+11, 1.83299151e+11, 1.46771179e+11,\n",
              "       1.32665427e+11, 1.47761053e+11, 1.62909972e+11, 1.31624272e+11,\n",
              "       1.32303283e+11, 1.79932252e+11, 1.20909037e+11, 1.09232657e+11,\n",
              "       1.46815837e+11, 1.40210239e+11, 1.22532393e+11, 1.56973579e+11,\n",
              "       1.49885970e+11, 1.39284148e+11, 1.37460812e+11, 1.06444393e+11,\n",
              "       1.42306549e+11, 1.48434222e+11, 1.43594367e+11, 1.55348470e+11,\n",
              "       1.38684824e+11, 1.35774335e+11, 1.53831538e+11, 1.42455574e+11,\n",
              "       1.17556191e+11, 1.30663922e+11, 1.71135212e+11, 1.59265872e+11,\n",
              "       1.35775546e+11, 1.37844455e+11, 1.53604820e+11, 1.77785410e+11,\n",
              "       1.86149305e+11, 1.34864685e+11, 1.28750356e+11, 1.20695290e+11,\n",
              "       1.88390003e+11, 1.54262337e+11, 9.79511440e+10, 1.34071391e+11,\n",
              "       1.18830750e+11, 1.56107631e+11, 1.66226349e+11, 1.54774557e+11,\n",
              "       1.29677694e+11, 1.64783672e+11, 1.25477180e+11, 1.86133349e+11,\n",
              "       1.68605364e+11, 1.47218638e+11, 1.69215418e+11, 1.48584039e+11,\n",
              "       1.66928583e+11, 1.32140188e+11, 1.51115224e+11, 1.51384788e+11,\n",
              "       1.39370511e+11, 1.22309086e+11, 1.18210080e+11, 1.53100094e+11,\n",
              "       1.43438310e+11, 1.43363184e+11, 1.16579256e+11, 1.35617026e+11,\n",
              "       1.55217305e+11, 1.41595187e+11, 1.58007946e+11, 1.68774075e+11,\n",
              "       1.23574751e+11, 1.58558146e+11, 1.56570562e+11, 1.48387642e+11,\n",
              "       1.31089041e+11, 1.64836094e+11, 1.58625492e+11, 1.55718671e+11,\n",
              "       1.68912076e+11, 1.33385420e+11, 1.65667869e+11, 1.40050087e+11,\n",
              "       1.19152981e+11, 1.57169267e+11, 1.63048137e+11, 1.38841448e+11,\n",
              "       1.44387458e+11, 1.18748674e+11, 1.12937873e+11, 1.52929990e+11,\n",
              "       1.35396767e+11, 1.52256023e+11, 1.23657028e+11, 1.59998401e+11,\n",
              "       1.53556832e+11, 1.52862583e+11, 1.30595105e+11, 1.48470734e+11,\n",
              "       1.49134848e+11, 1.32095014e+11, 1.39679191e+11, 1.28707058e+11,\n",
              "       1.63644574e+11, 1.80193066e+11, 1.45422039e+11, 1.62952016e+11,\n",
              "       1.71768798e+11, 9.86261249e+10, 1.16481296e+11, 1.39567676e+11,\n",
              "       1.33695199e+11, 1.29594920e+11, 1.52849539e+11, 9.95966524e+10,\n",
              "       1.47556655e+11, 1.56754179e+11, 1.51115018e+11, 1.41972661e+11,\n",
              "       1.22338121e+11, 1.29479736e+11, 1.42273672e+11, 1.70864124e+11,\n",
              "       1.52941191e+11, 1.57387283e+11, 1.60966116e+11, 1.65223924e+11,\n",
              "       1.44980937e+11, 1.09827740e+11, 1.18258291e+11, 1.37266649e+11,\n",
              "       1.38830042e+11, 1.63730706e+11, 1.38518935e+11, 1.40522767e+11,\n",
              "       1.55706075e+11, 1.48650317e+11, 1.19901620e+11, 1.54976873e+11,\n",
              "       1.77920810e+11, 1.40342627e+11, 1.48917610e+11, 1.21928180e+11,\n",
              "       1.37640787e+11, 1.53784780e+11, 1.19191524e+11, 1.70499236e+11,\n",
              "       1.65888571e+11, 1.33500879e+11, 1.32327118e+11, 1.47405539e+11,\n",
              "       1.12715973e+11, 1.56835977e+11, 1.38282557e+11, 1.28975359e+11,\n",
              "       1.43223346e+11, 1.33783591e+11, 1.48604172e+11, 1.23596873e+11,\n",
              "       1.90555457e+11, 1.30844633e+11, 1.63359744e+11, 1.62068337e+11,\n",
              "       1.67785677e+11, 1.32495168e+11, 1.37732023e+11, 1.28589621e+11,\n",
              "       1.70379741e+11, 1.53755919e+11, 1.50621838e+11, 1.22606091e+11,\n",
              "       1.28915642e+11, 1.30711135e+11, 1.68843303e+11, 1.35850078e+11,\n",
              "       1.49419219e+11, 1.60411189e+11, 1.56016466e+11, 1.62420332e+11,\n",
              "       1.34478894e+11, 1.50611781e+11, 1.21589307e+11, 1.46650581e+11,\n",
              "       1.36733274e+11, 1.33942894e+11, 1.60441292e+11, 1.35673359e+11,\n",
              "       1.43582848e+11, 1.31446394e+11, 1.47340600e+11, 1.53094636e+11,\n",
              "       1.26473055e+11, 1.40520752e+11, 1.44070626e+11, 1.52034808e+11,\n",
              "       1.35067911e+11, 1.66445630e+11, 1.32021955e+11, 1.19430871e+11,\n",
              "       1.40237957e+11, 1.41557638e+11, 1.53432535e+11, 1.39828622e+11,\n",
              "       1.62317313e+11, 1.47795094e+11, 1.18917124e+11, 1.10430979e+11,\n",
              "       1.38061686e+11, 1.40649987e+11, 1.72928573e+11, 1.25818270e+11,\n",
              "       1.63814945e+11, 1.73019886e+11, 1.31240847e+11, 1.25432172e+11,\n",
              "       1.34353085e+11, 1.74433566e+11, 1.11921680e+11, 1.45756887e+11,\n",
              "       1.38106091e+11, 1.47167494e+11, 1.15696644e+11, 1.24064515e+11,\n",
              "       1.43699689e+11, 1.04582004e+11, 1.31897818e+11, 1.22522479e+11,\n",
              "       1.56692676e+11, 1.28341192e+11, 1.05467351e+11, 1.49941421e+11,\n",
              "       1.62043302e+11, 1.59954164e+11, 1.23657971e+11, 1.57523425e+11,\n",
              "       1.48423023e+11, 1.37021515e+11, 1.36746307e+11, 1.51547898e+11,\n",
              "       1.61582303e+11, 1.45897539e+11, 1.10206234e+11, 1.13054805e+11,\n",
              "       1.34983319e+11, 1.51378285e+11, 1.24940409e+11, 1.80431629e+11,\n",
              "       1.34234772e+11, 1.47006502e+11, 1.40291576e+11, 1.45920522e+11,\n",
              "       1.37882733e+11, 1.37759406e+11, 1.26225837e+11, 1.87279543e+11,\n",
              "       1.49104123e+11, 1.61910422e+11, 1.25641921e+11, 1.34258217e+11,\n",
              "       1.28243988e+11, 1.56719156e+11, 1.31206668e+11, 1.51897737e+11,\n",
              "       1.42838265e+11, 1.20478355e+11, 1.43952076e+11, 1.67064830e+11,\n",
              "       1.54892876e+11, 1.63483481e+11, 1.51720715e+11, 1.52989730e+11,\n",
              "       1.78761106e+11, 1.75351824e+11, 1.51519579e+11, 1.36624350e+11,\n",
              "       1.49653014e+11, 1.65833209e+11, 1.51347533e+11, 1.54331333e+11,\n",
              "       1.84789859e+11, 1.52186844e+11, 1.32321568e+11, 1.57999363e+11,\n",
              "       1.37711481e+11, 1.37142691e+11, 1.45900365e+11, 1.45004568e+11,\n",
              "       1.77784906e+11, 1.38481978e+11, 1.75243740e+11, 1.19677287e+11,\n",
              "       1.51081089e+11, 1.03805930e+11, 1.48287317e+11, 1.47819840e+11,\n",
              "       1.87199036e+11, 1.18376327e+11, 1.73694390e+11, 1.29844515e+11,\n",
              "       1.52616394e+11, 1.31868764e+11, 1.01432122e+11, 1.39567266e+11,\n",
              "       1.31287465e+11, 1.50235959e+11, 1.82439920e+11, 1.24357868e+11,\n",
              "       1.65047487e+11, 1.76618059e+11, 1.80762711e+11, 1.57156654e+11,\n",
              "       1.42716601e+11, 1.43398271e+11, 1.53233753e+11, 1.61833349e+11,\n",
              "       1.12825564e+11, 1.47673693e+11, 1.15618157e+11, 1.36660313e+11,\n",
              "       1.56700871e+11, 1.46298752e+11, 1.41718556e+11, 1.13502191e+11,\n",
              "       1.33184184e+11, 1.40470920e+11, 1.63426427e+11, 1.67335039e+11,\n",
              "       1.74112060e+11, 1.74445927e+11, 1.46121505e+11, 1.71948462e+11,\n",
              "       1.36695763e+11, 1.77121998e+11, 1.50808777e+11, 1.49358940e+11,\n",
              "       1.63349396e+11, 1.51473083e+11, 1.55638442e+11, 1.21997584e+11,\n",
              "       1.23287703e+11, 1.44850110e+11, 1.44273891e+11, 1.21743636e+11,\n",
              "       1.01521760e+11, 1.52773132e+11, 1.63312761e+11, 1.49657987e+11,\n",
              "       1.52724994e+11, 1.63002668e+11, 1.34238089e+11, 1.32853205e+11,\n",
              "       1.38949626e+11, 1.33639717e+11, 1.66813101e+11, 1.49452807e+11,\n",
              "       1.33532686e+11, 1.58008196e+11, 1.44065025e+11, 1.54916983e+11,\n",
              "       1.50363178e+11, 1.62078637e+11, 1.75169654e+11, 1.60407685e+11,\n",
              "       1.52177532e+11, 1.68358658e+11, 1.34492897e+11, 1.19482970e+11,\n",
              "       1.36854460e+11, 1.34710153e+11, 1.45477295e+11, 1.21517737e+11,\n",
              "       1.35651829e+11, 1.46489119e+11, 1.29714239e+11, 9.99032529e+10,\n",
              "       1.43523144e+11, 1.58370772e+11, 1.36625289e+11, 1.33706980e+11,\n",
              "       1.46896814e+11, 1.55011132e+11, 1.38321517e+11, 1.27696762e+11,\n",
              "       1.51019379e+11, 1.30159663e+11, 1.51454696e+11, 1.51783559e+11,\n",
              "       1.24132481e+11, 1.53337679e+11, 1.27629171e+11, 1.30348404e+11,\n",
              "       1.62594858e+11, 1.50771845e+11, 1.66915129e+11, 1.39019992e+11,\n",
              "       1.52185813e+11, 1.45626416e+11, 1.34401117e+11, 1.33313621e+11,\n",
              "       9.97920717e+10, 1.33565736e+11, 1.47559249e+11, 1.78148328e+11,\n",
              "       1.18874081e+11, 1.65594009e+11, 1.49600828e+11, 9.94943883e+10,\n",
              "       1.52586519e+11, 1.58646251e+11, 1.08862093e+11, 1.41792156e+11,\n",
              "       1.29614181e+11, 1.36950120e+11, 1.30051331e+11, 1.49265451e+11,\n",
              "       1.45606328e+11, 1.64237668e+11, 1.13712225e+11, 1.46895550e+11,\n",
              "       1.82517393e+11, 1.26195875e+11, 1.33839769e+11, 1.55718453e+11,\n",
              "       1.52827266e+11, 1.27827437e+11, 1.43171497e+11, 1.68570159e+11,\n",
              "       1.50108079e+11, 1.29280260e+11, 1.39103483e+11, 1.37849559e+11,\n",
              "       1.49567423e+11, 1.18102203e+11, 1.72658456e+11, 1.24237244e+11,\n",
              "       1.31668747e+11, 1.43399527e+11, 1.38764661e+11, 1.49286952e+11,\n",
              "       1.71545928e+11, 1.42456559e+11, 1.78863539e+11, 1.27903109e+11,\n",
              "       1.23965000e+11, 1.50615730e+11, 1.80074909e+11, 1.27563434e+11,\n",
              "       1.33169860e+11, 1.65161799e+11, 1.47970829e+11, 1.41258891e+11,\n",
              "       1.61144221e+11, 1.24952964e+11, 1.38515023e+11, 1.27255827e+11,\n",
              "       1.15068480e+11, 1.24455496e+11, 1.53024083e+11, 1.35929027e+11,\n",
              "       1.30263026e+11, 1.42301023e+11, 1.60716716e+11, 1.09818303e+11,\n",
              "       1.09326911e+11, 1.53333883e+11, 1.60339704e+11, 1.60735878e+11,\n",
              "       1.38667149e+11, 1.34503917e+11, 1.20188409e+11, 1.42639051e+11,\n",
              "       1.64739533e+11, 1.14158788e+11, 1.53638947e+11, 1.64679470e+11,\n",
              "       1.61731084e+11, 1.36259565e+11, 1.41865333e+11, 1.45814677e+11,\n",
              "       1.42944031e+11, 1.42869945e+11, 1.69096928e+11, 1.33038071e+11,\n",
              "       1.66421930e+11, 1.47504018e+11, 1.39245123e+11, 1.35040788e+11,\n",
              "       1.50000058e+11, 1.69987885e+11, 1.29113855e+11, 1.37035348e+11,\n",
              "       1.59749567e+11, 1.33562858e+11, 1.11066512e+11, 1.59914303e+11,\n",
              "       1.60973271e+11, 1.75152790e+11, 1.32770289e+11, 1.81791100e+11,\n",
              "       1.27500915e+11, 1.53982151e+11, 1.68941618e+11, 1.66426399e+11,\n",
              "       1.36676936e+11, 1.51058713e+11, 1.77005509e+11, 1.17979284e+11,\n",
              "       1.10854299e+11, 1.10095336e+11, 1.81672585e+11, 1.55790536e+11,\n",
              "       1.81532540e+11, 1.39863803e+11, 1.32341325e+11, 1.37395065e+11,\n",
              "       1.56930775e+11, 1.23775344e+11, 1.65484720e+11, 1.21392243e+11,\n",
              "       1.29153385e+11, 1.50559368e+11, 1.31099924e+11, 1.63901526e+11,\n",
              "       1.88407996e+11, 1.63628154e+11, 1.63647724e+11, 1.44712095e+11,\n",
              "       1.40287160e+11, 1.58703753e+11, 1.30196058e+11, 1.52364578e+11,\n",
              "       1.81000122e+11, 1.52734177e+11, 1.50904715e+11, 1.63722798e+11,\n",
              "       1.49055360e+11, 1.59206726e+11, 1.31709916e+11, 1.77926336e+11,\n",
              "       1.47478615e+11, 1.38074072e+11, 1.52488383e+11, 1.22136040e+11,\n",
              "       1.37169710e+11, 1.26642391e+11, 1.00905606e+11, 1.68576821e+11,\n",
              "       1.47406110e+11, 1.56926947e+11, 1.60038232e+11, 1.67186794e+11,\n",
              "       1.54127810e+11, 1.32903675e+11, 1.52982131e+11, 1.20808647e+11,\n",
              "       1.47841595e+11, 1.38886970e+11, 1.61231888e+11, 1.54522301e+11,\n",
              "       1.37238526e+11, 1.43861139e+11, 1.52679628e+11, 1.38936523e+11,\n",
              "       1.41486320e+11, 1.78151230e+11, 1.17352751e+11, 1.62032780e+11,\n",
              "       1.12729799e+11, 1.44721078e+11, 1.51396100e+11, 1.67368123e+11,\n",
              "       1.17980055e+11, 1.29243200e+11, 1.29858708e+11, 1.43765408e+11,\n",
              "       1.64358552e+11, 1.32429317e+11, 1.54058075e+11, 1.22440103e+11,\n",
              "       1.46950946e+11, 1.43253301e+11, 1.74877001e+11, 1.50387935e+11,\n",
              "       1.32672700e+11, 1.46221057e+11, 1.62325024e+11, 1.82772962e+11,\n",
              "       1.54789374e+11, 1.24767809e+11, 1.30581129e+11, 1.43862940e+11,\n",
              "       1.20214979e+11, 1.41883850e+11, 1.44246321e+11, 1.23469746e+11,\n",
              "       1.50919372e+11, 1.55567598e+11, 1.22968984e+11, 1.55623234e+11,\n",
              "       1.80763176e+11, 1.51536225e+11, 1.26225169e+11, 1.05895968e+11,\n",
              "       1.85594753e+11, 1.47913458e+11, 1.28273025e+11, 1.96719349e+11,\n",
              "       1.93648988e+11, 1.63188381e+11, 1.51967535e+11, 1.29195710e+11,\n",
              "       1.32838486e+11, 1.46015348e+11, 1.25759022e+11, 1.40652646e+11,\n",
              "       1.74332874e+11, 1.41933257e+11, 1.27257794e+11, 1.38942253e+11,\n",
              "       1.61995246e+11, 1.68574976e+11, 1.36081504e+11, 1.59221781e+11,\n",
              "       1.49188775e+11, 1.40003745e+11, 1.46518811e+11, 1.28435513e+11,\n",
              "       1.52883496e+11, 1.51047014e+11, 1.70970797e+11, 1.40787796e+11,\n",
              "       1.24626929e+11, 1.45543013e+11, 1.46981735e+11, 1.54686399e+11,\n",
              "       1.71678122e+11, 1.40350859e+11, 1.62148485e+11, 1.64010366e+11,\n",
              "       1.68985955e+11, 1.68050387e+11, 1.26391492e+11, 1.33833691e+11,\n",
              "       1.72504235e+11, 1.15154896e+11, 1.79097058e+11, 1.50076409e+11,\n",
              "       1.69736941e+11, 1.27387040e+11, 1.14969143e+11, 1.70919136e+11,\n",
              "       1.49668046e+11, 1.74469242e+11, 1.39294508e+11, 1.18838009e+11,\n",
              "       1.50106239e+11, 1.65679455e+11, 1.23118092e+11, 1.68340068e+11,\n",
              "       1.41498972e+11, 1.36557625e+11, 1.37061730e+11, 1.43658121e+11,\n",
              "       1.42362851e+11, 1.36548738e+11, 1.63812327e+11, 1.64679592e+11,\n",
              "       1.29698008e+11, 1.27869867e+11, 1.44433846e+11, 1.30302459e+11,\n",
              "       1.40030301e+11, 1.60793001e+11, 1.48010815e+11, 1.42396950e+11,\n",
              "       1.38974756e+11, 1.54214010e+11, 1.43277977e+11, 1.58607891e+11,\n",
              "       1.67105850e+11, 1.54196624e+11, 1.40790833e+11, 1.40859824e+11,\n",
              "       1.39875932e+11, 1.52260104e+11, 1.23146587e+11, 1.41717868e+11,\n",
              "       1.24364670e+11, 1.62196715e+11, 1.63068427e+11, 1.44275944e+11,\n",
              "       1.81497628e+11, 1.38148461e+11, 1.60956252e+11, 1.16608502e+11,\n",
              "       1.41741084e+11, 1.38095374e+11, 1.13279578e+11, 1.39244509e+11,\n",
              "       1.38588241e+11, 1.57977405e+11, 1.39118897e+11, 1.36604248e+11,\n",
              "       1.52195057e+11, 1.62387759e+11, 1.56582463e+11, 1.42771209e+11,\n",
              "       1.25184419e+11, 1.51688219e+11, 1.02873029e+11, 1.54074087e+11,\n",
              "       1.60229961e+11, 1.46372213e+11, 1.00658479e+11, 1.70143458e+11,\n",
              "       1.22055401e+11, 1.32218474e+11, 1.51370104e+11, 1.60348866e+11,\n",
              "       1.66390683e+11, 9.22857385e+10, 1.50362234e+11, 1.63752857e+11,\n",
              "       1.37003005e+11, 9.91694271e+10, 1.48161682e+11, 1.63665045e+11])"
            ]
          },
          "metadata": {},
          "execution_count": 33
        }
      ]
    },
    {
      "cell_type": "code",
      "metadata": {
        "colab": {
          "base_uri": "https://localhost:8080/"
        },
        "id": "7lzOS7Ml8G6j",
        "outputId": "8577134e-a229-4a05-b865-586957169ea2"
      },
      "source": [
        "y_test"
      ],
      "execution_count": 34,
      "outputs": [
        {
          "output_type": "execute_result",
          "data": {
            "text/plain": [
              "3702    1.232466e+06\n",
              "3975    1.165875e+06\n",
              "556     1.792255e+06\n",
              "1262    1.371670e+06\n",
              "3784    1.601527e+06\n",
              "            ...     \n",
              "3117    1.518454e+06\n",
              "202     9.255663e+05\n",
              "4898    4.497281e+05\n",
              "4459    9.285638e+05\n",
              "1125    1.676071e+06\n",
              "Name: Price, Length: 1000, dtype: float64"
            ]
          },
          "metadata": {},
          "execution_count": 34
        }
      ]
    },
    {
      "cell_type": "code",
      "metadata": {
        "id": "3bcS9GuO8J_U"
      },
      "source": [
        ""
      ],
      "execution_count": 34,
      "outputs": []
    }
  ]
}